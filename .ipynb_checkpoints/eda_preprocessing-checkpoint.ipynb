{
 "cells": [
  {
   "cell_type": "code",
   "execution_count": 1,
   "metadata": {},
   "outputs": [],
   "source": [
    "import pandas as pd\n",
    "\n",
    "# Visualizations/normalization\n",
    "import matplotlib.pyplot as plt\n",
    "from scipy import stats\n",
    "\n",
    "# Tranformations\n",
    "from sklearn import preprocessing"
   ]
  },
  {
   "cell_type": "markdown",
   "metadata": {},
   "source": [
    "### Preprocessing"
   ]
  },
  {
   "cell_type": "code",
   "execution_count": 2,
   "metadata": {},
   "outputs": [
    {
     "data": {
      "text/html": [
       "<div>\n",
       "<style scoped>\n",
       "    .dataframe tbody tr th:only-of-type {\n",
       "        vertical-align: middle;\n",
       "    }\n",
       "\n",
       "    .dataframe tbody tr th {\n",
       "        vertical-align: top;\n",
       "    }\n",
       "\n",
       "    .dataframe thead th {\n",
       "        text-align: right;\n",
       "    }\n",
       "</style>\n",
       "<table border=\"1\" class=\"dataframe\">\n",
       "  <thead>\n",
       "    <tr style=\"text-align: right;\">\n",
       "      <th></th>\n",
       "      <th>date_time</th>\n",
       "      <th>maxtempC</th>\n",
       "      <th>mintempC</th>\n",
       "      <th>totalSnow_cm</th>\n",
       "      <th>sunHour</th>\n",
       "      <th>uvIndex</th>\n",
       "      <th>moon_illumination</th>\n",
       "      <th>moonrise</th>\n",
       "      <th>moonset</th>\n",
       "      <th>sunrise</th>\n",
       "      <th>...</th>\n",
       "      <th>WindGustKmph</th>\n",
       "      <th>cloudcover</th>\n",
       "      <th>humidity</th>\n",
       "      <th>precipMM</th>\n",
       "      <th>pressure</th>\n",
       "      <th>tempC</th>\n",
       "      <th>visibility</th>\n",
       "      <th>winddirDegree</th>\n",
       "      <th>windspeedKmph</th>\n",
       "      <th>location</th>\n",
       "    </tr>\n",
       "  </thead>\n",
       "  <tbody>\n",
       "    <tr>\n",
       "      <th>0</th>\n",
       "      <td>2010-01-01 00:00:00</td>\n",
       "      <td>0</td>\n",
       "      <td>0</td>\n",
       "      <td>0.0</td>\n",
       "      <td>8.7</td>\n",
       "      <td>1</td>\n",
       "      <td>100</td>\n",
       "      <td>06:11 PM</td>\n",
       "      <td>08:10 AM</td>\n",
       "      <td>07:27 AM</td>\n",
       "      <td>...</td>\n",
       "      <td>6</td>\n",
       "      <td>75</td>\n",
       "      <td>97</td>\n",
       "      <td>0.0</td>\n",
       "      <td>1016</td>\n",
       "      <td>-1</td>\n",
       "      <td>2</td>\n",
       "      <td>346</td>\n",
       "      <td>4</td>\n",
       "      <td>baltimore</td>\n",
       "    </tr>\n",
       "    <tr>\n",
       "      <th>1</th>\n",
       "      <td>2010-01-01 03:00:00</td>\n",
       "      <td>0</td>\n",
       "      <td>0</td>\n",
       "      <td>0.0</td>\n",
       "      <td>8.7</td>\n",
       "      <td>1</td>\n",
       "      <td>100</td>\n",
       "      <td>06:11 PM</td>\n",
       "      <td>08:10 AM</td>\n",
       "      <td>07:27 AM</td>\n",
       "      <td>...</td>\n",
       "      <td>5</td>\n",
       "      <td>23</td>\n",
       "      <td>96</td>\n",
       "      <td>0.0</td>\n",
       "      <td>1015</td>\n",
       "      <td>0</td>\n",
       "      <td>2</td>\n",
       "      <td>301</td>\n",
       "      <td>3</td>\n",
       "      <td>baltimore</td>\n",
       "    </tr>\n",
       "    <tr>\n",
       "      <th>2</th>\n",
       "      <td>2010-01-01 06:00:00</td>\n",
       "      <td>0</td>\n",
       "      <td>0</td>\n",
       "      <td>0.0</td>\n",
       "      <td>8.7</td>\n",
       "      <td>1</td>\n",
       "      <td>100</td>\n",
       "      <td>06:11 PM</td>\n",
       "      <td>08:10 AM</td>\n",
       "      <td>07:27 AM</td>\n",
       "      <td>...</td>\n",
       "      <td>11</td>\n",
       "      <td>20</td>\n",
       "      <td>95</td>\n",
       "      <td>0.0</td>\n",
       "      <td>1015</td>\n",
       "      <td>-2</td>\n",
       "      <td>2</td>\n",
       "      <td>302</td>\n",
       "      <td>5</td>\n",
       "      <td>baltimore</td>\n",
       "    </tr>\n",
       "    <tr>\n",
       "      <th>3</th>\n",
       "      <td>2010-01-01 09:00:00</td>\n",
       "      <td>0</td>\n",
       "      <td>0</td>\n",
       "      <td>0.0</td>\n",
       "      <td>8.7</td>\n",
       "      <td>1</td>\n",
       "      <td>100</td>\n",
       "      <td>06:11 PM</td>\n",
       "      <td>08:10 AM</td>\n",
       "      <td>07:27 AM</td>\n",
       "      <td>...</td>\n",
       "      <td>27</td>\n",
       "      <td>18</td>\n",
       "      <td>90</td>\n",
       "      <td>0.0</td>\n",
       "      <td>1015</td>\n",
       "      <td>2</td>\n",
       "      <td>10</td>\n",
       "      <td>311</td>\n",
       "      <td>17</td>\n",
       "      <td>baltimore</td>\n",
       "    </tr>\n",
       "    <tr>\n",
       "      <th>4</th>\n",
       "      <td>2010-01-01 12:00:00</td>\n",
       "      <td>0</td>\n",
       "      <td>0</td>\n",
       "      <td>0.0</td>\n",
       "      <td>8.7</td>\n",
       "      <td>1</td>\n",
       "      <td>100</td>\n",
       "      <td>06:11 PM</td>\n",
       "      <td>08:10 AM</td>\n",
       "      <td>07:27 AM</td>\n",
       "      <td>...</td>\n",
       "      <td>11</td>\n",
       "      <td>51</td>\n",
       "      <td>89</td>\n",
       "      <td>0.0</td>\n",
       "      <td>1013</td>\n",
       "      <td>5</td>\n",
       "      <td>10</td>\n",
       "      <td>306</td>\n",
       "      <td>9</td>\n",
       "      <td>baltimore</td>\n",
       "    </tr>\n",
       "  </tbody>\n",
       "</table>\n",
       "<p>5 rows × 25 columns</p>\n",
       "</div>"
      ],
      "text/plain": [
       "             date_time  maxtempC  mintempC  totalSnow_cm  sunHour  uvIndex  \\\n",
       "0  2010-01-01 00:00:00         0         0           0.0      8.7        1   \n",
       "1  2010-01-01 03:00:00         0         0           0.0      8.7        1   \n",
       "2  2010-01-01 06:00:00         0         0           0.0      8.7        1   \n",
       "3  2010-01-01 09:00:00         0         0           0.0      8.7        1   \n",
       "4  2010-01-01 12:00:00         0         0           0.0      8.7        1   \n",
       "\n",
       "   moon_illumination  moonrise   moonset   sunrise  ... WindGustKmph  \\\n",
       "0                100  06:11 PM  08:10 AM  07:27 AM  ...            6   \n",
       "1                100  06:11 PM  08:10 AM  07:27 AM  ...            5   \n",
       "2                100  06:11 PM  08:10 AM  07:27 AM  ...           11   \n",
       "3                100  06:11 PM  08:10 AM  07:27 AM  ...           27   \n",
       "4                100  06:11 PM  08:10 AM  07:27 AM  ...           11   \n",
       "\n",
       "   cloudcover  humidity  precipMM  pressure  tempC  visibility  winddirDegree  \\\n",
       "0          75        97       0.0      1016     -1           2            346   \n",
       "1          23        96       0.0      1015      0           2            301   \n",
       "2          20        95       0.0      1015     -2           2            302   \n",
       "3          18        90       0.0      1015      2          10            311   \n",
       "4          51        89       0.0      1013      5          10            306   \n",
       "\n",
       "   windspeedKmph   location  \n",
       "0              4  baltimore  \n",
       "1              3  baltimore  \n",
       "2              5  baltimore  \n",
       "3             17  baltimore  \n",
       "4              9  baltimore  \n",
       "\n",
       "[5 rows x 25 columns]"
      ]
     },
     "execution_count": 2,
     "metadata": {},
     "output_type": "execute_result"
    }
   ],
   "source": [
    "df=pd.read_csv(\"./baltimore.csv\")\n",
    "df.head()"
   ]
  },
  {
   "cell_type": "code",
   "execution_count": 3,
   "metadata": {},
   "outputs": [],
   "source": [
    "new_df=(df['tempC']*(9/5))+32\n",
    "data=df[['date_time','humidity','pressure']]\n",
    "data.insert(loc=1,column='temperature',value=new_df)"
   ]
  },
  {
   "cell_type": "code",
   "execution_count": 4,
   "metadata": {},
   "outputs": [],
   "source": [
    "data.to_csv(\"./weather.csv\",index=False)"
   ]
  },
  {
   "cell_type": "code",
   "execution_count": 5,
   "metadata": {},
   "outputs": [
    {
     "name": "stderr",
     "output_type": "stream",
     "text": [
      "/home/barry/.local/lib/python3.7/site-packages/pandas/core/frame.py:4174: SettingWithCopyWarning: \n",
      "A value is trying to be set on a copy of a slice from a DataFrame\n",
      "\n",
      "See the caveats in the documentation: https://pandas.pydata.org/pandas-docs/stable/user_guide/indexing.html#returning-a-view-versus-a-copy\n",
      "  errors=errors,\n"
     ]
    }
   ],
   "source": [
    "data.drop(columns=['date_time'],inplace=True)"
   ]
  },
  {
   "cell_type": "code",
   "execution_count": 6,
   "metadata": {},
   "outputs": [
    {
     "data": {
      "text/html": [
       "<div>\n",
       "<style scoped>\n",
       "    .dataframe tbody tr th:only-of-type {\n",
       "        vertical-align: middle;\n",
       "    }\n",
       "\n",
       "    .dataframe tbody tr th {\n",
       "        vertical-align: top;\n",
       "    }\n",
       "\n",
       "    .dataframe thead th {\n",
       "        text-align: right;\n",
       "    }\n",
       "</style>\n",
       "<table border=\"1\" class=\"dataframe\">\n",
       "  <thead>\n",
       "    <tr style=\"text-align: right;\">\n",
       "      <th></th>\n",
       "      <th>temperature</th>\n",
       "      <th>humidity</th>\n",
       "      <th>pressure</th>\n",
       "    </tr>\n",
       "  </thead>\n",
       "  <tbody>\n",
       "    <tr>\n",
       "      <th>0</th>\n",
       "      <td>30.2</td>\n",
       "      <td>97</td>\n",
       "      <td>1016</td>\n",
       "    </tr>\n",
       "    <tr>\n",
       "      <th>1</th>\n",
       "      <td>32.0</td>\n",
       "      <td>96</td>\n",
       "      <td>1015</td>\n",
       "    </tr>\n",
       "    <tr>\n",
       "      <th>2</th>\n",
       "      <td>28.4</td>\n",
       "      <td>95</td>\n",
       "      <td>1015</td>\n",
       "    </tr>\n",
       "    <tr>\n",
       "      <th>3</th>\n",
       "      <td>35.6</td>\n",
       "      <td>90</td>\n",
       "      <td>1015</td>\n",
       "    </tr>\n",
       "    <tr>\n",
       "      <th>4</th>\n",
       "      <td>41.0</td>\n",
       "      <td>89</td>\n",
       "      <td>1013</td>\n",
       "    </tr>\n",
       "  </tbody>\n",
       "</table>\n",
       "</div>"
      ],
      "text/plain": [
       "   temperature  humidity  pressure\n",
       "0         30.2        97      1016\n",
       "1         32.0        96      1015\n",
       "2         28.4        95      1015\n",
       "3         35.6        90      1015\n",
       "4         41.0        89      1013"
      ]
     },
     "execution_count": 6,
     "metadata": {},
     "output_type": "execute_result"
    }
   ],
   "source": [
    "data.head()"
   ]
  },
  {
   "cell_type": "markdown",
   "metadata": {},
   "source": [
    "### Exploratory Data Analysis"
   ]
  },
  {
   "cell_type": "code",
   "execution_count": 7,
   "metadata": {},
   "outputs": [
    {
     "data": {
      "text/html": [
       "<div>\n",
       "<style scoped>\n",
       "    .dataframe tbody tr th:only-of-type {\n",
       "        vertical-align: middle;\n",
       "    }\n",
       "\n",
       "    .dataframe tbody tr th {\n",
       "        vertical-align: top;\n",
       "    }\n",
       "\n",
       "    .dataframe thead th {\n",
       "        text-align: right;\n",
       "    }\n",
       "</style>\n",
       "<table border=\"1\" class=\"dataframe\">\n",
       "  <thead>\n",
       "    <tr style=\"text-align: right;\">\n",
       "      <th></th>\n",
       "      <th>temperature</th>\n",
       "      <th>humidity</th>\n",
       "      <th>pressure</th>\n",
       "    </tr>\n",
       "  </thead>\n",
       "  <tbody>\n",
       "    <tr>\n",
       "      <th>count</th>\n",
       "      <td>30440.000000</td>\n",
       "      <td>30440.000000</td>\n",
       "      <td>30440.000000</td>\n",
       "    </tr>\n",
       "    <tr>\n",
       "      <th>mean</th>\n",
       "      <td>55.162819</td>\n",
       "      <td>73.927891</td>\n",
       "      <td>1017.314717</td>\n",
       "    </tr>\n",
       "    <tr>\n",
       "      <th>std</th>\n",
       "      <td>17.878335</td>\n",
       "      <td>16.702941</td>\n",
       "      <td>7.385845</td>\n",
       "    </tr>\n",
       "    <tr>\n",
       "      <th>min</th>\n",
       "      <td>-0.400000</td>\n",
       "      <td>13.000000</td>\n",
       "      <td>961.000000</td>\n",
       "    </tr>\n",
       "    <tr>\n",
       "      <th>25%</th>\n",
       "      <td>41.000000</td>\n",
       "      <td>61.000000</td>\n",
       "      <td>1013.000000</td>\n",
       "    </tr>\n",
       "    <tr>\n",
       "      <th>50%</th>\n",
       "      <td>55.400000</td>\n",
       "      <td>76.000000</td>\n",
       "      <td>1017.000000</td>\n",
       "    </tr>\n",
       "    <tr>\n",
       "      <th>75%</th>\n",
       "      <td>69.800000</td>\n",
       "      <td>88.000000</td>\n",
       "      <td>1022.000000</td>\n",
       "    </tr>\n",
       "    <tr>\n",
       "      <th>max</th>\n",
       "      <td>100.400000</td>\n",
       "      <td>100.000000</td>\n",
       "      <td>1045.000000</td>\n",
       "    </tr>\n",
       "  </tbody>\n",
       "</table>\n",
       "</div>"
      ],
      "text/plain": [
       "        temperature      humidity      pressure\n",
       "count  30440.000000  30440.000000  30440.000000\n",
       "mean      55.162819     73.927891   1017.314717\n",
       "std       17.878335     16.702941      7.385845\n",
       "min       -0.400000     13.000000    961.000000\n",
       "25%       41.000000     61.000000   1013.000000\n",
       "50%       55.400000     76.000000   1017.000000\n",
       "75%       69.800000     88.000000   1022.000000\n",
       "max      100.400000    100.000000   1045.000000"
      ]
     },
     "execution_count": 7,
     "metadata": {},
     "output_type": "execute_result"
    }
   ],
   "source": [
    "data.describe()"
   ]
  },
  {
   "cell_type": "code",
   "execution_count": 8,
   "metadata": {},
   "outputs": [
    {
     "data": {
      "text/plain": [
       "<AxesSubplot:>"
      ]
     },
     "execution_count": 8,
     "metadata": {},
     "output_type": "execute_result"
    },
    {
     "data": {
      "image/png": "[encoded data removed]",
      "text/plain": [
       "<Figure size 432x288 with 1 Axes>"
      ]
     },
     "metadata": {
      "needs_background": "light"
     },
     "output_type": "display_data"
    }
   ],
   "source": [
    "data['temperature'].hist()"
   ]
  },
  {
   "cell_type": "code",
   "execution_count": 9,
   "metadata": {},
   "outputs": [
    {
     "data": {
      "text/plain": [
       "<AxesSubplot:>"
      ]
     },
     "execution_count": 9,
     "metadata": {},
     "output_type": "execute_result"
    },
    {
     "data": {
      "image/png": "[encoded data removed]",
      "text/plain": [
       "<Figure size 432x288 with 1 Axes>"
      ]
     },
     "metadata": {
      "needs_background": "light"
     },
     "output_type": "display_data"
    }
   ],
   "source": [
    "data['humidity'].hist()"
   ]
  },
  {
   "cell_type": "code",
   "execution_count": 10,
   "metadata": {},
   "outputs": [
    {
     "data": {
      "text/plain": [
       "<AxesSubplot:>"
      ]
     },
     "execution_count": 10,
     "metadata": {},
     "output_type": "execute_result"
    },
    {
     "data": {
      "image/png": "[encoded data removed]",
      "text/plain": [
       "<Figure size 432x288 with 1 Axes>"
      ]
     },
     "metadata": {
      "needs_background": "light"
     },
     "output_type": "display_data"
    }
   ],
   "source": [
    "data['pressure'].hist()"
   ]
  },
  {
   "cell_type": "code",
   "execution_count": 11,
   "metadata": {},
   "outputs": [
    {
     "data": {
      "text/plain": [
       "<AxesSubplot:title={'center':'temp vs hum'}, xlabel='temperature', ylabel='humidity'>"
      ]
     },
     "execution_count": 11,
     "metadata": {},
     "output_type": "execute_result"
    },
    {
     "data": {
      "image/png": "[encoded data removed]",
      "text/plain": [
       "<Figure size 432x288 with 1 Axes>"
      ]
     },
     "metadata": {
      "needs_background": "light"
     },
     "output_type": "display_data"
    }
   ],
   "source": [
    "data.plot.scatter(x='temperature',\n",
    "               y='humidity',\n",
    "               title='temp vs hum')"
   ]
  },
  {
   "cell_type": "code",
   "execution_count": 12,
   "metadata": {},
   "outputs": [
    {
     "data": {
      "text/plain": [
       "<matplotlib.image.AxesImage at 0xaa7ff6f0>"
      ]
     },
     "execution_count": 12,
     "metadata": {},
     "output_type": "execute_result"
    },
    {
     "data": {
      "image/png": "[encoded data removed]",
      "text/plain": [
       "<Figure size 288x288 with 1 Axes>"
      ]
     },
     "metadata": {
      "needs_background": "light"
     },
     "output_type": "display_data"
    }
   ],
   "source": [
    "plt.matshow(data.corr())"
   ]
  },
  {
   "cell_type": "markdown",
   "metadata": {},
   "source": [
    "0. temperature\n",
    "1. humidity\n",
    "2. pressure"
   ]
  },
  {
   "cell_type": "markdown",
   "metadata": {},
   "source": [
    "### Preprocessing"
   ]
  },
  {
   "cell_type": "code",
   "execution_count": 13,
   "metadata": {},
   "outputs": [],
   "source": [
    "min_temp=data['temperature'].mean()-data['temperature'].std()*3\n",
    "max_temp=data['temperature'].mean()+data['temperature'].std()*3\n",
    "\n",
    "min_hum=data['humidity'].mean()-data['humidity'].std()*3\n",
    "max_hum=data['humidity'].mean()+data['humidity'].std()*3\n",
    "\n",
    "min_press=data['pressure'].mean()-data['pressure'].std()*3\n",
    "max_press=data['pressure'].mean()+data['pressure'].std()*3"
   ]
  },
  {
   "cell_type": "code",
   "execution_count": 14,
   "metadata": {},
   "outputs": [
    {
     "name": "stderr",
     "output_type": "stream",
     "text": [
      "/home/barry/.local/lib/python3.7/site-packages/pandas/core/frame.py:4174: SettingWithCopyWarning: \n",
      "A value is trying to be set on a copy of a slice from a DataFrame\n",
      "\n",
      "See the caveats in the documentation: https://pandas.pydata.org/pandas-docs/stable/user_guide/indexing.html#returning-a-view-versus-a-copy\n",
      "  errors=errors,\n",
      "/home/barry/.local/lib/python3.7/site-packages/pandas/core/frame.py:4174: SettingWithCopyWarning: \n",
      "A value is trying to be set on a copy of a slice from a DataFrame\n",
      "\n",
      "See the caveats in the documentation: https://pandas.pydata.org/pandas-docs/stable/user_guide/indexing.html#returning-a-view-versus-a-copy\n",
      "  errors=errors,\n",
      "/home/barry/.local/lib/python3.7/site-packages/pandas/core/frame.py:4174: SettingWithCopyWarning: \n",
      "A value is trying to be set on a copy of a slice from a DataFrame\n",
      "\n",
      "See the caveats in the documentation: https://pandas.pydata.org/pandas-docs/stable/user_guide/indexing.html#returning-a-view-versus-a-copy\n",
      "  errors=errors,\n",
      "/home/barry/.local/lib/python3.7/site-packages/pandas/core/frame.py:4174: SettingWithCopyWarning: \n",
      "A value is trying to be set on a copy of a slice from a DataFrame\n",
      "\n",
      "See the caveats in the documentation: https://pandas.pydata.org/pandas-docs/stable/user_guide/indexing.html#returning-a-view-versus-a-copy\n",
      "  errors=errors,\n",
      "/home/barry/.local/lib/python3.7/site-packages/pandas/core/frame.py:4174: SettingWithCopyWarning: \n",
      "A value is trying to be set on a copy of a slice from a DataFrame\n",
      "\n",
      "See the caveats in the documentation: https://pandas.pydata.org/pandas-docs/stable/user_guide/indexing.html#returning-a-view-versus-a-copy\n",
      "  errors=errors,\n",
      "/home/barry/.local/lib/python3.7/site-packages/pandas/core/frame.py:4174: SettingWithCopyWarning: \n",
      "A value is trying to be set on a copy of a slice from a DataFrame\n",
      "\n",
      "See the caveats in the documentation: https://pandas.pydata.org/pandas-docs/stable/user_guide/indexing.html#returning-a-view-versus-a-copy\n",
      "  errors=errors,\n"
     ]
    }
   ],
   "source": [
    "data.drop(data[(data['temperature'] > max_temp)].index,inplace=True)\n",
    "data.drop(data[(data['temperature'] < min_temp)].index,inplace=True)\n",
    "\n",
    "data.drop(data[(data['humidity'] > max_hum)].index,inplace=True)\n",
    "data.drop(data[(data['humidity'] < min_hum)].index,inplace=True)\n",
    "\n",
    "data.drop(data[(data['pressure'] > max_press)].index,inplace=True)\n",
    "data.drop(data[(data['pressure'] < min_press)].index,inplace=True)"
   ]
  },
  {
   "cell_type": "code",
   "execution_count": 15,
   "metadata": {},
   "outputs": [
    {
     "data": {
      "text/plain": [
       "<AxesSubplot:ylabel='Frequency'>"
      ]
     },
     "execution_count": 15,
     "metadata": {},
     "output_type": "execute_result"
    },
    {
     "data": {
      "image/png": "[encoded data removed]",
      "text/plain": [
       "<Figure size 432x288 with 1 Axes>"
      ]
     },
     "metadata": {
      "needs_background": "light"
     },
     "output_type": "display_data"
    }
   ],
   "source": [
    "data['humidity'].plot.hist()"
   ]
  },
  {
   "cell_type": "code",
   "execution_count": 16,
   "metadata": {},
   "outputs": [
    {
     "data": {
      "text/html": [
       "<div>\n",
       "<style scoped>\n",
       "    .dataframe tbody tr th:only-of-type {\n",
       "        vertical-align: middle;\n",
       "    }\n",
       "\n",
       "    .dataframe tbody tr th {\n",
       "        vertical-align: top;\n",
       "    }\n",
       "\n",
       "    .dataframe thead th {\n",
       "        text-align: right;\n",
       "    }\n",
       "</style>\n",
       "<table border=\"1\" class=\"dataframe\">\n",
       "  <thead>\n",
       "    <tr style=\"text-align: right;\">\n",
       "      <th></th>\n",
       "      <th>temperature</th>\n",
       "      <th>humidity</th>\n",
       "      <th>pressure</th>\n",
       "    </tr>\n",
       "  </thead>\n",
       "  <tbody>\n",
       "    <tr>\n",
       "      <th>count</th>\n",
       "      <td>30248.000000</td>\n",
       "      <td>30248.000000</td>\n",
       "      <td>30248.000000</td>\n",
       "    </tr>\n",
       "    <tr>\n",
       "      <th>mean</th>\n",
       "      <td>55.245755</td>\n",
       "      <td>73.896489</td>\n",
       "      <td>1017.372818</td>\n",
       "    </tr>\n",
       "    <tr>\n",
       "      <th>std</th>\n",
       "      <td>17.862104</td>\n",
       "      <td>16.677605</td>\n",
       "      <td>7.129390</td>\n",
       "    </tr>\n",
       "    <tr>\n",
       "      <th>min</th>\n",
       "      <td>3.200000</td>\n",
       "      <td>24.000000</td>\n",
       "      <td>996.000000</td>\n",
       "    </tr>\n",
       "    <tr>\n",
       "      <th>25%</th>\n",
       "      <td>41.000000</td>\n",
       "      <td>61.000000</td>\n",
       "      <td>1013.000000</td>\n",
       "    </tr>\n",
       "    <tr>\n",
       "      <th>50%</th>\n",
       "      <td>55.400000</td>\n",
       "      <td>76.000000</td>\n",
       "      <td>1017.000000</td>\n",
       "    </tr>\n",
       "    <tr>\n",
       "      <th>75%</th>\n",
       "      <td>69.800000</td>\n",
       "      <td>88.000000</td>\n",
       "      <td>1022.000000</td>\n",
       "    </tr>\n",
       "    <tr>\n",
       "      <th>max</th>\n",
       "      <td>100.400000</td>\n",
       "      <td>100.000000</td>\n",
       "      <td>1039.000000</td>\n",
       "    </tr>\n",
       "  </tbody>\n",
       "</table>\n",
       "</div>"
      ],
      "text/plain": [
       "        temperature      humidity      pressure\n",
       "count  30248.000000  30248.000000  30248.000000\n",
       "mean      55.245755     73.896489   1017.372818\n",
       "std       17.862104     16.677605      7.129390\n",
       "min        3.200000     24.000000    996.000000\n",
       "25%       41.000000     61.000000   1013.000000\n",
       "50%       55.400000     76.000000   1017.000000\n",
       "75%       69.800000     88.000000   1022.000000\n",
       "max      100.400000    100.000000   1039.000000"
      ]
     },
     "execution_count": 16,
     "metadata": {},
     "output_type": "execute_result"
    }
   ],
   "source": [
    "data.describe()"
   ]
  },
  {
   "cell_type": "markdown",
   "metadata": {},
   "source": [
    "### Calculate misery index for each value\n",
    "max_temp=100.4  \n",
    "min_temp=3.2  \n",
    "  \n",
    "$\n",
    "y=0.0184615x -1.07692\n",
    "$  \n",
    "  \n",
    "max_hum=100  \n",
    "min_hum=24  \n",
    "\n",
    "$\n",
    "y=0.0236711x -1.29402\n",
    "$  \n",
    "\n",
    "max_pressure=1039  \n",
    "min_pressure=996  \n",
    "\n",
    "$\n",
    "y=0.0465032 -47.3248\n",
    "$  \n"
   ]
  },
  {
   "cell_type": "code",
   "execution_count": 17,
   "metadata": {},
   "outputs": [
    {
     "data": {
      "text/html": [
       "<div>\n",
       "<style scoped>\n",
       "    .dataframe tbody tr th:only-of-type {\n",
       "        vertical-align: middle;\n",
       "    }\n",
       "\n",
       "    .dataframe tbody tr th {\n",
       "        vertical-align: top;\n",
       "    }\n",
       "\n",
       "    .dataframe thead th {\n",
       "        text-align: right;\n",
       "    }\n",
       "</style>\n",
       "<table border=\"1\" class=\"dataframe\">\n",
       "  <thead>\n",
       "    <tr style=\"text-align: right;\">\n",
       "      <th></th>\n",
       "      <th>temperature</th>\n",
       "      <th>humidity</th>\n",
       "      <th>pressure</th>\n",
       "    </tr>\n",
       "  </thead>\n",
       "  <tbody>\n",
       "    <tr>\n",
       "      <th>0</th>\n",
       "      <td>30.2</td>\n",
       "      <td>97</td>\n",
       "      <td>1016</td>\n",
       "    </tr>\n",
       "    <tr>\n",
       "      <th>1</th>\n",
       "      <td>32.0</td>\n",
       "      <td>96</td>\n",
       "      <td>1015</td>\n",
       "    </tr>\n",
       "    <tr>\n",
       "      <th>2</th>\n",
       "      <td>28.4</td>\n",
       "      <td>95</td>\n",
       "      <td>1015</td>\n",
       "    </tr>\n",
       "    <tr>\n",
       "      <th>3</th>\n",
       "      <td>35.6</td>\n",
       "      <td>90</td>\n",
       "      <td>1015</td>\n",
       "    </tr>\n",
       "    <tr>\n",
       "      <th>4</th>\n",
       "      <td>41.0</td>\n",
       "      <td>89</td>\n",
       "      <td>1013</td>\n",
       "    </tr>\n",
       "  </tbody>\n",
       "</table>\n",
       "</div>"
      ],
      "text/plain": [
       "   temperature  humidity  pressure\n",
       "0         30.2        97      1016\n",
       "1         32.0        96      1015\n",
       "2         28.4        95      1015\n",
       "3         35.6        90      1015\n",
       "4         41.0        89      1013"
      ]
     },
     "execution_count": 17,
     "metadata": {},
     "output_type": "execute_result"
    }
   ],
   "source": [
    "data.head()"
   ]
  },
  {
   "cell_type": "code",
   "execution_count": 18,
   "metadata": {},
   "outputs": [],
   "source": [
    "temp_index=[]\n",
    "for x in data['temperature']:\n",
    "    temp_index.append((x*0.0184615)-1.07692)"
   ]
  },
  {
   "cell_type": "code",
   "execution_count": 19,
   "metadata": {},
   "outputs": [],
   "source": [
    "hum_index=[]\n",
    "for x in data['humidity']:\n",
    "    hum_index.append((x*0.0236711)-1.29402)"
   ]
  },
  {
   "cell_type": "code",
   "execution_count": 20,
   "metadata": {},
   "outputs": [],
   "source": [
    "press_index=[]\n",
    "for x in data['pressure']:\n",
    "    press_index.append((x*0.0465032)-47.3248)"
   ]
  },
  {
   "cell_type": "code",
   "execution_count": 21,
   "metadata": {},
   "outputs": [
    {
     "data": {
      "text/plain": [
       "-1.0178432000000002"
      ]
     },
     "execution_count": 21,
     "metadata": {},
     "output_type": "execute_result"
    }
   ],
   "source": [
    "min(temp_index)"
   ]
  },
  {
   "cell_type": "code",
   "execution_count": 22,
   "metadata": {},
   "outputs": [
    {
     "name": "stdout",
     "output_type": "stream",
     "text": [
      "-0.5193827000000002\n",
      "1.0020767000000002\n",
      "-0.07754880000000242\n"
     ]
    }
   ],
   "source": [
    "print(temp_index[0])\n",
    "print(hum_index[0])\n",
    "print(press_index[0])"
   ]
  },
  {
   "cell_type": "code",
   "execution_count": 23,
   "metadata": {},
   "outputs": [
    {
     "data": {
      "text/html": [
       "<div>\n",
       "<style scoped>\n",
       "    .dataframe tbody tr th:only-of-type {\n",
       "        vertical-align: middle;\n",
       "    }\n",
       "\n",
       "    .dataframe tbody tr th {\n",
       "        vertical-align: top;\n",
       "    }\n",
       "\n",
       "    .dataframe thead th {\n",
       "        text-align: right;\n",
       "    }\n",
       "</style>\n",
       "<table border=\"1\" class=\"dataframe\">\n",
       "  <thead>\n",
       "    <tr style=\"text-align: right;\">\n",
       "      <th></th>\n",
       "      <th>temperature</th>\n",
       "      <th>humidity</th>\n",
       "      <th>pressure</th>\n",
       "    </tr>\n",
       "  </thead>\n",
       "  <tbody>\n",
       "    <tr>\n",
       "      <th>0</th>\n",
       "      <td>32.669499</td>\n",
       "      <td>1539.544122</td>\n",
       "      <td>0.223602</td>\n",
       "    </tr>\n",
       "    <tr>\n",
       "      <th>1</th>\n",
       "      <td>34.671499</td>\n",
       "      <td>1512.629017</td>\n",
       "      <td>0.223602</td>\n",
       "    </tr>\n",
       "    <tr>\n",
       "      <th>2</th>\n",
       "      <td>30.671038</td>\n",
       "      <td>1485.912667</td>\n",
       "      <td>0.223602</td>\n",
       "    </tr>\n",
       "    <tr>\n",
       "      <th>3</th>\n",
       "      <td>38.685390</td>\n",
       "      <td>1355.332825</td>\n",
       "      <td>0.223602</td>\n",
       "    </tr>\n",
       "    <tr>\n",
       "      <th>4</th>\n",
       "      <td>44.728657</td>\n",
       "      <td>1329.821465</td>\n",
       "      <td>0.223602</td>\n",
       "    </tr>\n",
       "  </tbody>\n",
       "</table>\n",
       "</div>"
      ],
      "text/plain": [
       "   temperature     humidity  pressure\n",
       "0    32.669499  1539.544122  0.223602\n",
       "1    34.671499  1512.629017  0.223602\n",
       "2    30.671038  1485.912667  0.223602\n",
       "3    38.685390  1355.332825  0.223602\n",
       "4    44.728657  1329.821465  0.223602"
      ]
     },
     "execution_count": 23,
     "metadata": {},
     "output_type": "execute_result"
    }
   ],
   "source": [
    "# scaler = preprocessing.PowerTransformer()\n",
    "# scaler = preprocessing.PowerTransformer(method='box-cox', standardize=False)\n",
    "# scaler = preprocessing.PowerTransformer(method='yeo-johnson', standardize=False)\n",
    "X = scaler.fit_transform(data)\n",
    "X_norm=pd.DataFrame(data=X,columns=data.columns)\n",
    "X_norm.head()"
   ]
  },
  {
   "cell_type": "code",
   "execution_count": 36,
   "metadata": {},
   "outputs": [
    {
     "data": {
      "text/plain": [
       "<AxesSubplot:ylabel='Frequency'>"
      ]
     },
     "execution_count": 36,
     "metadata": {},
     "output_type": "execute_result"
    },
    {
     "data": {
      "image/png": "[encoded data removed]",
      "text/plain": [
       "<Figure size 432x288 with 1 Axes>"
      ]
     },
     "metadata": {
      "needs_background": "light"
     },
     "output_type": "display_data"
    }
   ],
   "source": [
    "X_norm['temperature'].plot.hist()"
   ]
  },
  {
   "cell_type": "code",
   "execution_count": 25,
   "metadata": {},
   "outputs": [],
   "source": [
    "X_norm.insert(value=temp_index,column='Temperature Index',loc=len(X_norm.columns))"
   ]
  },
  {
   "cell_type": "code",
   "execution_count": 26,
   "metadata": {},
   "outputs": [],
   "source": [
    "X_norm.insert(value=hum_index,column='Humidity Index',loc=len(X_norm.columns))"
   ]
  },
  {
   "cell_type": "code",
   "execution_count": 27,
   "metadata": {},
   "outputs": [],
   "source": [
    "X_norm.insert(value=press_index,column='Pressure Index',loc=len(X_norm.columns))"
   ]
  },
  {
   "cell_type": "code",
   "execution_count": 28,
   "metadata": {},
   "outputs": [
    {
     "data": {
      "text/html": [
       "<div>\n",
       "<style scoped>\n",
       "    .dataframe tbody tr th:only-of-type {\n",
       "        vertical-align: middle;\n",
       "    }\n",
       "\n",
       "    .dataframe tbody tr th {\n",
       "        vertical-align: top;\n",
       "    }\n",
       "\n",
       "    .dataframe thead th {\n",
       "        text-align: right;\n",
       "    }\n",
       "</style>\n",
       "<table border=\"1\" class=\"dataframe\">\n",
       "  <thead>\n",
       "    <tr style=\"text-align: right;\">\n",
       "      <th></th>\n",
       "      <th>temperature</th>\n",
       "      <th>humidity</th>\n",
       "      <th>pressure</th>\n",
       "      <th>Temperature Index</th>\n",
       "      <th>Humidity Index</th>\n",
       "      <th>Pressure Index</th>\n",
       "    </tr>\n",
       "  </thead>\n",
       "  <tbody>\n",
       "    <tr>\n",
       "      <th>0</th>\n",
       "      <td>32.669499</td>\n",
       "      <td>1539.544122</td>\n",
       "      <td>0.223602</td>\n",
       "      <td>-0.519383</td>\n",
       "      <td>1.002077</td>\n",
       "      <td>-0.077549</td>\n",
       "    </tr>\n",
       "    <tr>\n",
       "      <th>1</th>\n",
       "      <td>34.671499</td>\n",
       "      <td>1512.629017</td>\n",
       "      <td>0.223602</td>\n",
       "      <td>-0.486152</td>\n",
       "      <td>0.978406</td>\n",
       "      <td>-0.124052</td>\n",
       "    </tr>\n",
       "    <tr>\n",
       "      <th>2</th>\n",
       "      <td>30.671038</td>\n",
       "      <td>1485.912667</td>\n",
       "      <td>0.223602</td>\n",
       "      <td>-0.552613</td>\n",
       "      <td>0.954735</td>\n",
       "      <td>-0.124052</td>\n",
       "    </tr>\n",
       "    <tr>\n",
       "      <th>3</th>\n",
       "      <td>38.685390</td>\n",
       "      <td>1355.332825</td>\n",
       "      <td>0.223602</td>\n",
       "      <td>-0.419691</td>\n",
       "      <td>0.836379</td>\n",
       "      <td>-0.124052</td>\n",
       "    </tr>\n",
       "    <tr>\n",
       "      <th>4</th>\n",
       "      <td>44.728657</td>\n",
       "      <td>1329.821465</td>\n",
       "      <td>0.223602</td>\n",
       "      <td>-0.319999</td>\n",
       "      <td>0.812708</td>\n",
       "      <td>-0.217058</td>\n",
       "    </tr>\n",
       "  </tbody>\n",
       "</table>\n",
       "</div>"
      ],
      "text/plain": [
       "   temperature     humidity  pressure  Temperature Index  Humidity Index  \\\n",
       "0    32.669499  1539.544122  0.223602          -0.519383        1.002077   \n",
       "1    34.671499  1512.629017  0.223602          -0.486152        0.978406   \n",
       "2    30.671038  1485.912667  0.223602          -0.552613        0.954735   \n",
       "3    38.685390  1355.332825  0.223602          -0.419691        0.836379   \n",
       "4    44.728657  1329.821465  0.223602          -0.319999        0.812708   \n",
       "\n",
       "   Pressure Index  \n",
       "0       -0.077549  \n",
       "1       -0.124052  \n",
       "2       -0.124052  \n",
       "3       -0.124052  \n",
       "4       -0.217058  "
      ]
     },
     "execution_count": 28,
     "metadata": {},
     "output_type": "execute_result"
    }
   ],
   "source": [
    "X_norm.head()"
   ]
  },
  {
   "cell_type": "code",
   "execution_count": 29,
   "metadata": {},
   "outputs": [],
   "source": [
    "misery_index=[]\n",
    "for x in range(0,len(X_norm['temperature'])):\n",
    "    index_val=(abs(X_norm['Temperature Index'][x])+abs(X_norm['Humidity Index'][x])+abs(X_norm['Pressure Index'][x]))/3\n",
    "    misery_index.append(index_val)"
   ]
  },
  {
   "cell_type": "code",
   "execution_count": 30,
   "metadata": {},
   "outputs": [],
   "source": [
    "X_norm.insert(value=misery_index,column=\"Misery Index\",loc=len(X_norm.columns))"
   ]
  },
  {
   "cell_type": "code",
   "execution_count": 31,
   "metadata": {},
   "outputs": [
    {
     "data": {
      "text/html": [
       "<div>\n",
       "<style scoped>\n",
       "    .dataframe tbody tr th:only-of-type {\n",
       "        vertical-align: middle;\n",
       "    }\n",
       "\n",
       "    .dataframe tbody tr th {\n",
       "        vertical-align: top;\n",
       "    }\n",
       "\n",
       "    .dataframe thead th {\n",
       "        text-align: right;\n",
       "    }\n",
       "</style>\n",
       "<table border=\"1\" class=\"dataframe\">\n",
       "  <thead>\n",
       "    <tr style=\"text-align: right;\">\n",
       "      <th></th>\n",
       "      <th>temperature</th>\n",
       "      <th>humidity</th>\n",
       "      <th>pressure</th>\n",
       "      <th>Temperature Index</th>\n",
       "      <th>Humidity Index</th>\n",
       "      <th>Pressure Index</th>\n",
       "      <th>Misery Index</th>\n",
       "    </tr>\n",
       "  </thead>\n",
       "  <tbody>\n",
       "    <tr>\n",
       "      <th>0</th>\n",
       "      <td>32.669499</td>\n",
       "      <td>1539.544122</td>\n",
       "      <td>0.223602</td>\n",
       "      <td>-0.519383</td>\n",
       "      <td>1.002077</td>\n",
       "      <td>-0.077549</td>\n",
       "      <td>0.533003</td>\n",
       "    </tr>\n",
       "    <tr>\n",
       "      <th>1</th>\n",
       "      <td>34.671499</td>\n",
       "      <td>1512.629017</td>\n",
       "      <td>0.223602</td>\n",
       "      <td>-0.486152</td>\n",
       "      <td>0.978406</td>\n",
       "      <td>-0.124052</td>\n",
       "      <td>0.529537</td>\n",
       "    </tr>\n",
       "    <tr>\n",
       "      <th>2</th>\n",
       "      <td>30.671038</td>\n",
       "      <td>1485.912667</td>\n",
       "      <td>0.223602</td>\n",
       "      <td>-0.552613</td>\n",
       "      <td>0.954735</td>\n",
       "      <td>-0.124052</td>\n",
       "      <td>0.543800</td>\n",
       "    </tr>\n",
       "    <tr>\n",
       "      <th>3</th>\n",
       "      <td>38.685390</td>\n",
       "      <td>1355.332825</td>\n",
       "      <td>0.223602</td>\n",
       "      <td>-0.419691</td>\n",
       "      <td>0.836379</td>\n",
       "      <td>-0.124052</td>\n",
       "      <td>0.460041</td>\n",
       "    </tr>\n",
       "    <tr>\n",
       "      <th>4</th>\n",
       "      <td>44.728657</td>\n",
       "      <td>1329.821465</td>\n",
       "      <td>0.223602</td>\n",
       "      <td>-0.319999</td>\n",
       "      <td>0.812708</td>\n",
       "      <td>-0.217058</td>\n",
       "      <td>0.449922</td>\n",
       "    </tr>\n",
       "  </tbody>\n",
       "</table>\n",
       "</div>"
      ],
      "text/plain": [
       "   temperature     humidity  pressure  Temperature Index  Humidity Index  \\\n",
       "0    32.669499  1539.544122  0.223602          -0.519383        1.002077   \n",
       "1    34.671499  1512.629017  0.223602          -0.486152        0.978406   \n",
       "2    30.671038  1485.912667  0.223602          -0.552613        0.954735   \n",
       "3    38.685390  1355.332825  0.223602          -0.419691        0.836379   \n",
       "4    44.728657  1329.821465  0.223602          -0.319999        0.812708   \n",
       "\n",
       "   Pressure Index  Misery Index  \n",
       "0       -0.077549      0.533003  \n",
       "1       -0.124052      0.529537  \n",
       "2       -0.124052      0.543800  \n",
       "3       -0.124052      0.460041  \n",
       "4       -0.217058      0.449922  "
      ]
     },
     "execution_count": 31,
     "metadata": {},
     "output_type": "execute_result"
    }
   ],
   "source": [
    "X_norm.head()"
   ]
  },
  {
   "cell_type": "code",
   "execution_count": 32,
   "metadata": {},
   "outputs": [
    {
     "data": {
      "text/html": [
       "<div>\n",
       "<style scoped>\n",
       "    .dataframe tbody tr th:only-of-type {\n",
       "        vertical-align: middle;\n",
       "    }\n",
       "\n",
       "    .dataframe tbody tr th {\n",
       "        vertical-align: top;\n",
       "    }\n",
       "\n",
       "    .dataframe thead th {\n",
       "        text-align: right;\n",
       "    }\n",
       "</style>\n",
       "<table border=\"1\" class=\"dataframe\">\n",
       "  <thead>\n",
       "    <tr style=\"text-align: right;\">\n",
       "      <th></th>\n",
       "      <th>temperature</th>\n",
       "      <th>humidity</th>\n",
       "      <th>pressure</th>\n",
       "      <th>Temperature Index</th>\n",
       "      <th>Humidity Index</th>\n",
       "      <th>Pressure Index</th>\n",
       "      <th>Misery Index</th>\n",
       "    </tr>\n",
       "  </thead>\n",
       "  <tbody>\n",
       "    <tr>\n",
       "      <th>count</th>\n",
       "      <td>30248.000000</td>\n",
       "      <td>30248.000000</td>\n",
       "      <td>3.024800e+04</td>\n",
       "      <td>30248.000000</td>\n",
       "      <td>30248.000000</td>\n",
       "      <td>30248.000000</td>\n",
       "      <td>30248.000000</td>\n",
       "    </tr>\n",
       "    <tr>\n",
       "      <th>mean</th>\n",
       "      <td>60.883592</td>\n",
       "      <td>999.677548</td>\n",
       "      <td>2.236018e-01</td>\n",
       "      <td>-0.057000</td>\n",
       "      <td>0.455191</td>\n",
       "      <td>-0.013708</td>\n",
       "      <td>0.353124</td>\n",
       "    </tr>\n",
       "    <tr>\n",
       "      <th>std</th>\n",
       "      <td>20.172810</td>\n",
       "      <td>358.794292</td>\n",
       "      <td>2.455676e-16</td>\n",
       "      <td>0.329761</td>\n",
       "      <td>0.394777</td>\n",
       "      <td>0.331539</td>\n",
       "      <td>0.132658</td>\n",
       "    </tr>\n",
       "    <tr>\n",
       "      <th>min</th>\n",
       "      <td>3.288119</td>\n",
       "      <td>146.556862</td>\n",
       "      <td>2.236018e-01</td>\n",
       "      <td>-1.017843</td>\n",
       "      <td>-0.725914</td>\n",
       "      <td>-1.007613</td>\n",
       "      <td>0.014516</td>\n",
       "    </tr>\n",
       "    <tr>\n",
       "      <th>25%</th>\n",
       "      <td>44.728657</td>\n",
       "      <td>700.501657</td>\n",
       "      <td>2.236018e-01</td>\n",
       "      <td>-0.319999</td>\n",
       "      <td>0.149917</td>\n",
       "      <td>-0.217058</td>\n",
       "      <td>0.256445</td>\n",
       "    </tr>\n",
       "    <tr>\n",
       "      <th>50%</th>\n",
       "      <td>60.954085</td>\n",
       "      <td>1016.887520</td>\n",
       "      <td>2.236018e-01</td>\n",
       "      <td>-0.054153</td>\n",
       "      <td>0.504984</td>\n",
       "      <td>-0.031046</td>\n",
       "      <td>0.349055</td>\n",
       "    </tr>\n",
       "    <tr>\n",
       "      <th>75%</th>\n",
       "      <td>77.308443</td>\n",
       "      <td>1304.513088</td>\n",
       "      <td>2.236018e-01</td>\n",
       "      <td>0.211693</td>\n",
       "      <td>0.789037</td>\n",
       "      <td>0.201470</td>\n",
       "      <td>0.439471</td>\n",
       "    </tr>\n",
       "    <tr>\n",
       "      <th>max</th>\n",
       "      <td>112.382424</td>\n",
       "      <td>1621.476289</td>\n",
       "      <td>2.236018e-01</td>\n",
       "      <td>0.776615</td>\n",
       "      <td>1.073090</td>\n",
       "      <td>0.992025</td>\n",
       "      <td>0.891169</td>\n",
       "    </tr>\n",
       "  </tbody>\n",
       "</table>\n",
       "</div>"
      ],
      "text/plain": [
       "        temperature      humidity      pressure  Temperature Index  \\\n",
       "count  30248.000000  30248.000000  3.024800e+04       30248.000000   \n",
       "mean      60.883592    999.677548  2.236018e-01          -0.057000   \n",
       "std       20.172810    358.794292  2.455676e-16           0.329761   \n",
       "min        3.288119    146.556862  2.236018e-01          -1.017843   \n",
       "25%       44.728657    700.501657  2.236018e-01          -0.319999   \n",
       "50%       60.954085   1016.887520  2.236018e-01          -0.054153   \n",
       "75%       77.308443   1304.513088  2.236018e-01           0.211693   \n",
       "max      112.382424   1621.476289  2.236018e-01           0.776615   \n",
       "\n",
       "       Humidity Index  Pressure Index  Misery Index  \n",
       "count    30248.000000    30248.000000  30248.000000  \n",
       "mean         0.455191       -0.013708      0.353124  \n",
       "std          0.394777        0.331539      0.132658  \n",
       "min         -0.725914       -1.007613      0.014516  \n",
       "25%          0.149917       -0.217058      0.256445  \n",
       "50%          0.504984       -0.031046      0.349055  \n",
       "75%          0.789037        0.201470      0.439471  \n",
       "max          1.073090        0.992025      0.891169  "
      ]
     },
     "execution_count": 32,
     "metadata": {},
     "output_type": "execute_result"
    }
   ],
   "source": [
    "X_norm.describe()"
   ]
  },
  {
   "cell_type": "code",
   "execution_count": 33,
   "metadata": {},
   "outputs": [],
   "source": [
    "X_norm.to_csv(\"./weather_norm.csv\",index=False)"
   ]
  }
 ],
 "metadata": {
  "kernelspec": {
   "display_name": "Python 3",
   "language": "python",
   "name": "python3"
  },
  "language_info": {
   "codemirror_mode": {
    "name": "ipython",
    "version": 3
   },
   "file_extension": ".py",
   "mimetype": "text/x-python",
   "name": "python",
   "nbconvert_exporter": "python",
   "pygments_lexer": "ipython3",
   "version": "3.7.3"
  }
 },
 "nbformat": 4,
 "nbformat_minor": 4
}
